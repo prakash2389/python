{
  "nbformat": 4,
  "nbformat_minor": 0,
  "metadata": {
    "colab": {
      "provenance": []
    },
    "kernelspec": {
      "name": "python3",
      "display_name": "Python 3"
    },
    "language_info": {
      "name": "python"
    }
  },
  "cells": [
    {
      "cell_type": "code",
      "execution_count": 1,
      "metadata": {
        "id": "PYDKe_o-EMqE"
      },
      "outputs": [],
      "source": [
        "\n",
        "########## Generator #########\n",
        "\n",
        "# concept of generators in Python\n",
        "# A generator is a special type of iterator that allows you to iterate over a sequence of values without storing them all in memory at once.\n",
        "# Generators are defined using functions with the `yield` keyword or by using generator expressions.\n",
        "# Generators are more memory efficient than lists, especially when dealing with large datasets.\n",
        "# Generators are iterators, but not all iterators are generators.\n",
        "\n",
        "# yield statement is used to turn a function into a generator function\n",
        "# When Python sees a yield inside a function, it does not execute the function immediately. Instead, it returns a generator object that can be iterated lazily (one item at a time).\n",
        "# Outside a function, yield makes no sense — Python does not know the context for what should be yielded or when.\n",
        "\n",
        "\n",
        "# Basic Generator Function"
      ]
    },
    {
      "cell_type": "code",
      "source": [
        "def gen_numbers(n):\n",
        "    for chunk in range(n):\n",
        "        yield chunk * 2"
      ],
      "metadata": {
        "id": "E9Gf155UEUmF"
      },
      "execution_count": 10,
      "outputs": []
    },
    {
      "cell_type": "code",
      "source": [
        "chunk = gen_numbers(10)"
      ],
      "metadata": {
        "id": "kUv1UAchGWc9"
      },
      "execution_count": 11,
      "outputs": []
    },
    {
      "cell_type": "code",
      "source": [
        "for g in chunk:\n",
        "    print(g)"
      ],
      "metadata": {
        "colab": {
          "base_uri": "https://localhost:8080/"
        },
        "id": "LoCKqpR2Gy9U",
        "outputId": "ad8e02a9-356c-4901-d63d-f5a7cf9409c1"
      },
      "execution_count": 12,
      "outputs": [
        {
          "output_type": "stream",
          "name": "stdout",
          "text": [
            "0\n",
            "2\n",
            "4\n",
            "6\n",
            "8\n",
            "10\n",
            "12\n",
            "14\n",
            "16\n",
            "18\n"
          ]
        }
      ]
    },
    {
      "cell_type": "code",
      "source": [
        "# Generator Expression\n",
        "Generator = (i+5 for i in [1, 6, 4, 8, 4] if i<5)\n"
      ],
      "metadata": {
        "id": "5Me9r4jWFvTk"
      },
      "execution_count": 13,
      "outputs": []
    },
    {
      "cell_type": "code",
      "source": [
        "for g in Generator:\n",
        "    print(g)\n"
      ],
      "metadata": {
        "id": "cVuhDxs-EW4E",
        "colab": {
          "base_uri": "https://localhost:8080/"
        },
        "outputId": "182060fc-1935-4f1e-f4ba-e6f3a70bbc0d"
      },
      "execution_count": 14,
      "outputs": [
        {
          "output_type": "stream",
          "name": "stdout",
          "text": [
            "6\n",
            "9\n",
            "9\n"
          ]
        }
      ]
    },
    {
      "cell_type": "code",
      "source": [
        "\n",
        "# List vs Generator in Performance and Memory\n",
        "\n",
        "a = [i for i in range(1000000000)]\n",
        "\n",
        "t1 = time.time()\n",
        "sum(a)\n",
        "t2 = time.time()\n",
        "print(t2-t1)\n",
        "\n",
        "b = (g for g in range(1000000000))\n",
        "t1 = time.time()\n",
        "sum(b)\n",
        "t2 = time.time()\n",
        "print(t2-t1)\n"
      ],
      "metadata": {
        "id": "RBDZFZpREtYM"
      },
      "execution_count": null,
      "outputs": []
    },
    {
      "cell_type": "code",
      "source": [
        "# Use generators when you're working with large datasets or streams of data (e.g., log files, sensor data)\n",
        "def simple_gen():\n",
        "    yield 1\n",
        "    yield 2"
      ],
      "metadata": {
        "id": "d3t7KvvkE-YZ"
      },
      "execution_count": 1,
      "outputs": []
    },
    {
      "cell_type": "code",
      "source": [
        "generator = simple_gen()\n",
        "print(type(generator))  # <class 'generator'>"
      ],
      "metadata": {
        "id": "Np-vhS27G9bV",
        "colab": {
          "base_uri": "https://localhost:8080/"
        },
        "outputId": "39a22ba9-5695-472a-b9e8-1468ead165d1"
      },
      "execution_count": 2,
      "outputs": [
        {
          "output_type": "stream",
          "name": "stdout",
          "text": [
            "<class 'generator'>\n"
          ]
        }
      ]
    },
    {
      "cell_type": "code",
      "source": [
        "for g in generator:\n",
        "    print(g)"
      ],
      "metadata": {
        "colab": {
          "base_uri": "https://localhost:8080/"
        },
        "id": "8THQlnPdhRME",
        "outputId": "6e34658e-e424-4de4-dfdb-a2327c2a0da8"
      },
      "execution_count": 3,
      "outputs": [
        {
          "output_type": "stream",
          "name": "stdout",
          "text": [
            "1\n",
            "2\n"
          ]
        }
      ]
    },
    {
      "cell_type": "code",
      "source": [
        "\n",
        "######## Reading Large Files Line by Line #######\n",
        "\n",
        "def read_large_file(filepath):\n",
        "    with open(filepath, \"r\") as f:\n",
        "        for line in f:\n",
        "            yield line.strip()\n",
        "\n",
        "filepath = r\"/content/251052166P001000018.txt\"\n",
        "for g in read_large_file(filepath):\n",
        "  print(g)\n",
        "  print(\"\\n\")\n",
        "  print(g.split(\"|\")[9])"
      ],
      "metadata": {
        "colab": {
          "base_uri": "https://localhost:8080/"
        },
        "id": "YdSCvMejix9y",
        "outputId": "8fbded10-0280-4660-d17d-c09ea6ee0dd2"
      },
      "execution_count": 13,
      "outputs": [
        {
          "output_type": "stream",
          "name": "stdout",
          "text": [
            "DCN|DOCUMENT TYPE|DOCUMENT CATEGORY|PO NUMBER|VENDOR GSTIN|VENDOR NAME|Vendor Group|SHIP TO PLANT NAME|INVOICE NUMBER|INVOICE DATE|INVOICE AMOUNT|BUSINESS DIVISION|Buyer GSTIN|Barcode\n",
            "\n",
            "\n",
            "INVOICE DATE\n",
            "251052166P001000018|NON PO|INVOICE|||J K CEMENT LIMITED|||533000104576|04/03/2025|708.36||29AABCJ0355R1Z3|PUN2510500018\n",
            "\n",
            "\n",
            "04/03/2025\n"
          ]
        }
      ]
    },
    {
      "cell_type": "code",
      "source": [
        "\n",
        "# Chunking Large Data (like text or list)\n",
        "\n",
        "numbers = [1, 2,3, 4,5,6,7,8,9,10,11,12,13,14,15,16,17,18,19, 20]\n",
        "def chunking(numbers, size):\n",
        "    for i in range(0, len(numbers), size):\n",
        "        yield numbers[i:i + size]\n",
        "\n",
        "for gen in chunking(numbers, 4):\n",
        "    print(gen)"
      ],
      "metadata": {
        "colab": {
          "base_uri": "https://localhost:8080/"
        },
        "id": "SxanUXyzktsV",
        "outputId": "6fff241c-ecc1-491e-88bd-b6bce4c6763f"
      },
      "execution_count": 14,
      "outputs": [
        {
          "output_type": "stream",
          "name": "stdout",
          "text": [
            "[1, 2, 3, 4]\n",
            "[5, 6, 7, 8]\n",
            "[9, 10, 11, 12]\n",
            "[13, 14, 15, 16]\n",
            "[17, 18, 19, 20]\n"
          ]
        }
      ]
    },
    {
      "cell_type": "code",
      "source": [
        "# Composing Generators (Generator Pipelines)\n",
        "def numbers_gen(n):\n",
        "    for g in range(n):\n",
        "        yield g\n",
        "\n",
        "def squared_gen(seq):\n",
        "    for g in seq:\n",
        "        yield g * g\n",
        "\n",
        "def even_gen(seq):\n",
        "    for g in seq:\n",
        "        if g % 2 == 0:\n",
        "            yield g\n",
        "\n",
        "# Compose the generators\n",
        "pipeline = even_gen(squared_gen(numbers_gen(20)))\n",
        "print(list(pipeline))"
      ],
      "metadata": {
        "colab": {
          "base_uri": "https://localhost:8080/"
        },
        "id": "hITkBszckuZL",
        "outputId": "5364603b-f143-4b93-c4e0-08d53d1c70be"
      },
      "execution_count": 15,
      "outputs": [
        {
          "output_type": "stream",
          "name": "stdout",
          "text": [
            "[0, 4, 16, 36, 64, 100, 144, 196, 256, 324]\n"
          ]
        }
      ]
    },
    {
      "cell_type": "code",
      "source": [
        "# Generator Expressions (Short form)\n",
        "squares = (x*x for x in range(1000000) if x % 2 == 0)"
      ],
      "metadata": {
        "colab": {
          "base_uri": "https://localhost:8080/"
        },
        "id": "crB3YaqVl9G1",
        "outputId": "05d28e1b-efa6-43cf-dce9-946275ffcf59"
      },
      "execution_count": 17,
      "outputs": [
        {
          "output_type": "stream",
          "name": "stdout",
          "text": [
            "0\n"
          ]
        }
      ]
    },
    {
      "cell_type": "code",
      "source": [
        "print(next(squares))  # Output: 0"
      ],
      "metadata": {
        "colab": {
          "base_uri": "https://localhost:8080/"
        },
        "id": "lWNtzBOSmBWb",
        "outputId": "f1a0f4dd-76a9-4370-b15f-61183763b013"
      },
      "execution_count": 21,
      "outputs": [
        {
          "output_type": "stream",
          "name": "stdout",
          "text": [
            "64\n"
          ]
        }
      ]
    },
    {
      "cell_type": "code",
      "source": [
        "#Generator with Pandas (Streaming DataFrames)\n",
        "import pandas as pd\n",
        "\n",
        "def read_csv_in_chunks(filepath, chunksize):\n",
        "  for chunk in pd.read_csv(filepath, chunksize=chunksize):\n",
        "    yield chunk"
      ],
      "metadata": {
        "id": "4SowVn55mNtG"
      },
      "execution_count": 25,
      "outputs": []
    },
    {
      "cell_type": "code",
      "source": [
        "filepath = \"/content/jkcl_31fields_group_31fields.csv\"\n",
        "for g in read_csv_in_chunks(filepath, chunksize=200):\n",
        "  print(g.shape)"
      ],
      "metadata": {
        "colab": {
          "base_uri": "https://localhost:8080/"
        },
        "id": "z6Jfx7Qas1Vj",
        "outputId": "d5a01d23-54b0-41b1-e4c6-5e45f0183679"
      },
      "execution_count": 26,
      "outputs": [
        {
          "output_type": "stream",
          "name": "stdout",
          "text": [
            "(200, 4)\n",
            "(200, 4)\n",
            "(200, 4)\n",
            "(200, 4)\n",
            "(200, 4)\n",
            "(200, 4)\n",
            "(200, 4)\n",
            "(200, 4)\n",
            "(200, 4)\n",
            "(200, 4)\n",
            "(200, 4)\n",
            "(200, 4)\n",
            "(200, 4)\n",
            "(200, 4)\n",
            "(200, 4)\n",
            "(200, 4)\n",
            "(200, 4)\n",
            "(200, 4)\n",
            "(200, 4)\n",
            "(200, 4)\n",
            "(200, 4)\n",
            "(200, 4)\n",
            "(200, 4)\n",
            "(200, 4)\n",
            "(13, 4)\n"
          ]
        }
      ]
    },
    {
      "cell_type": "code",
      "source": [
        "#Basic Custom Iterable Example"
      ],
      "metadata": {
        "id": "Ap2dqqg53gYP"
      },
      "execution_count": 34,
      "outputs": []
    },
    {
      "cell_type": "code",
      "source": [
        "class CreateNumberRange:\n",
        "  def __init__(self, start, end):\n",
        "    self.start= start\n",
        "    self.end = end\n",
        "\n",
        "  def __iter__(self):\n",
        "    return self\n",
        "  def __next__(self):\n",
        "    value = self.start\n",
        "    if value<=self.end:\n",
        "      self.start +=2\n",
        "      return value\n",
        "    else:\n",
        "      raise StopIteration\n",
        "\n"
      ],
      "metadata": {
        "id": "FLIQPDDb2pwp"
      },
      "execution_count": 32,
      "outputs": []
    },
    {
      "cell_type": "code",
      "source": [],
      "metadata": {
        "colab": {
          "base_uri": "https://localhost:8080/"
        },
        "id": "d-24OX_X3Pgo",
        "outputId": "f1f5f166-5bd9-4d5b-b717-5ba77d2067ac"
      },
      "execution_count": 28,
      "outputs": [
        {
          "output_type": "execute_result",
          "data": {
            "text/plain": [
              "<__main__.CreateNumberRange at 0x7fbc984379d0>"
            ]
          },
          "metadata": {},
          "execution_count": 28
        }
      ]
    },
    {
      "cell_type": "code",
      "source": [
        "for i in CreateNumberRange(10, 20):\n",
        "  print(i)"
      ],
      "metadata": {
        "colab": {
          "base_uri": "https://localhost:8080/"
        },
        "id": "CcBQ-Msy3TRI",
        "outputId": "46dee6c9-a9dd-4c7e-bd7d-ce51e065113a"
      },
      "execution_count": 33,
      "outputs": [
        {
          "output_type": "stream",
          "name": "stdout",
          "text": [
            "10\n",
            "12\n",
            "14\n",
            "16\n",
            "18\n",
            "20\n"
          ]
        }
      ]
    }
  ]
}