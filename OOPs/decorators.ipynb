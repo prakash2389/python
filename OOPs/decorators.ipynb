{
  "nbformat": 4,
  "nbformat_minor": 0,
  "metadata": {
    "colab": {
      "provenance": []
    },
    "kernelspec": {
      "name": "python3",
      "display_name": "Python 3"
    },
    "language_info": {
      "name": "python"
    }
  },
  "cells": [
    {
      "cell_type": "code",
      "execution_count": 4,
      "metadata": {
        "id": "2wOPlGAyw1_T"
      },
      "outputs": [],
      "source": [
        "def area_of_square(l, b):\n",
        "    return l * b"
      ]
    },
    {
      "cell_type": "code",
      "source": [
        "def area_of_circle(r):\n",
        "  from numpy import pi\n",
        "  return pi * r**2"
      ],
      "metadata": {
        "id": "Yh95U7X3w457"
      },
      "execution_count": 5,
      "outputs": []
    },
    {
      "cell_type": "code",
      "source": [
        "area_of_square(3,4)"
      ],
      "metadata": {
        "colab": {
          "base_uri": "https://localhost:8080/"
        },
        "id": "RZw5-7EQxLm5",
        "outputId": "35f8d26a-8a10-470e-c678-1a16a9bf3a80"
      },
      "execution_count": 6,
      "outputs": [
        {
          "output_type": "execute_result",
          "data": {
            "text/plain": [
              "12"
            ]
          },
          "metadata": {},
          "execution_count": 6
        }
      ]
    },
    {
      "cell_type": "code",
      "source": [
        "area_of_circle(5)"
      ],
      "metadata": {
        "colab": {
          "base_uri": "https://localhost:8080/"
        },
        "id": "M42nLy2YxNQB",
        "outputId": "aeb6a155-7998-4658-8d2e-9a66e327c902"
      },
      "execution_count": 7,
      "outputs": [
        {
          "output_type": "execute_result",
          "data": {
            "text/plain": [
              "78.53981633974483"
            ]
          },
          "metadata": {},
          "execution_count": 7
        }
      ]
    },
    {
      "cell_type": "code",
      "source": [
        "def time_wrapper(func):\n",
        "  def wrapper(*args, **kargs):\n",
        "    import time\n",
        "    print(f\"Started at {time.time()}\")\n",
        "    func(*args, **kargs)\n",
        "    time.sleep(3)\n",
        "    print(f\"Started at {time.time()}\")\n",
        "  return wrapper"
      ],
      "metadata": {
        "id": "27a3w7VDxPZJ"
      },
      "execution_count": 16,
      "outputs": []
    },
    {
      "cell_type": "code",
      "source": [
        "@time_wrapper\n",
        "def area_of_circle(r):\n",
        "  from numpy import pi\n",
        "  print(pi * r**2)"
      ],
      "metadata": {
        "id": "uK-fOOXAxwII"
      },
      "execution_count": 17,
      "outputs": []
    },
    {
      "cell_type": "code",
      "source": [
        "area_of_circle(5)"
      ],
      "metadata": {
        "colab": {
          "base_uri": "https://localhost:8080/"
        },
        "id": "jUXEF7gDyPwk",
        "outputId": "c64e463a-027c-46fd-8bc0-394bc6ee09ce"
      },
      "execution_count": 18,
      "outputs": [
        {
          "output_type": "stream",
          "name": "stdout",
          "text": [
            "Started at 1745128508.6690867\n",
            "78.53981633974483\n",
            "Started at 1745128511.6693134\n"
          ]
        }
      ]
    },
    {
      "cell_type": "code",
      "source": [
        "def area_of_circle(r):\n",
        "  from numpy import pi\n",
        "  print(pi * r**2)"
      ],
      "metadata": {
        "id": "NCqNPZaAycE5"
      },
      "execution_count": 20,
      "outputs": []
    },
    {
      "cell_type": "code",
      "source": [
        "### add print also on top\n",
        "def print_wrapper(func):\n",
        "  def wrapper(r):\n",
        "    print(\"Started\")\n",
        "    func(r)\n",
        "    print(\"Ended\")\n",
        "  return wrapper\n"
      ],
      "metadata": {
        "id": "UGLLOtVByg6Y"
      },
      "execution_count": 21,
      "outputs": []
    },
    {
      "cell_type": "code",
      "source": [
        "circle = print_wrapper(area_of_circle)"
      ],
      "metadata": {
        "id": "akt-NLDyy21I"
      },
      "execution_count": 22,
      "outputs": []
    },
    {
      "cell_type": "code",
      "source": [
        "circle(6)"
      ],
      "metadata": {
        "colab": {
          "base_uri": "https://localhost:8080/"
        },
        "id": "w-Wj9EtIy5nR",
        "outputId": "730c06a4-191b-40d3-e658-ca5e97a440c9"
      },
      "execution_count": 23,
      "outputs": [
        {
          "output_type": "stream",
          "name": "stdout",
          "text": [
            "Started\n",
            "113.09733552923255\n",
            "Ended\n"
          ]
        }
      ]
    }
  ]
}