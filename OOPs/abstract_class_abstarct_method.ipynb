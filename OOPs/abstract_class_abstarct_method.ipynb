{
  "nbformat": 4,
  "nbformat_minor": 0,
  "metadata": {
    "colab": {
      "provenance": []
    },
    "kernelspec": {
      "name": "python3",
      "display_name": "Python 3"
    },
    "language_info": {
      "name": "python"
    }
  },
  "cells": [
    {
      "cell_type": "code",
      "execution_count": 1,
      "metadata": {
        "id": "9Gg5JgFhOHiy"
      },
      "outputs": [],
      "source": [
        "class Farming:\n",
        "  def watering(self):\n",
        "    print(\"Water now for 2 hours\")"
      ]
    },
    {
      "cell_type": "code",
      "source": [
        "agri = Farming()"
      ],
      "metadata": {
        "id": "KtsvBFF5OYys"
      },
      "execution_count": 2,
      "outputs": []
    },
    {
      "cell_type": "code",
      "source": [
        "agri.watering()"
      ],
      "metadata": {
        "colab": {
          "base_uri": "https://localhost:8080/"
        },
        "id": "ZVZ5Z6AXOehc",
        "outputId": "f5583b8d-8948-4ac6-e5b2-c9dde54b8439"
      },
      "execution_count": 3,
      "outputs": [
        {
          "output_type": "stream",
          "name": "stdout",
          "text": [
            "Water now for 2 hours\n"
          ]
        }
      ]
    },
    {
      "cell_type": "code",
      "source": [
        "class Farming:\n",
        "  def watering(self):\n",
        "    pass"
      ],
      "metadata": {
        "id": "yDQmOJchOiiD"
      },
      "execution_count": 4,
      "outputs": []
    },
    {
      "cell_type": "code",
      "source": [
        "oilfarm = Farming()"
      ],
      "metadata": {
        "id": "Z0q2LKOlOkFM"
      },
      "execution_count": 5,
      "outputs": []
    },
    {
      "cell_type": "code",
      "source": [
        "oilfarm.watering()"
      ],
      "metadata": {
        "id": "dZGYO0mnOnis"
      },
      "execution_count": 6,
      "outputs": []
    },
    {
      "cell_type": "code",
      "source": [
        "# An abstract class is a class that cannot be instantiated on its own and is meant to be subclassed.\n",
        "# It acts as a template for other classes."
      ],
      "metadata": {
        "id": "CINHVh79ubpW"
      },
      "execution_count": 127,
      "outputs": []
    },
    {
      "cell_type": "code",
      "source": [
        "# It may contain abstract methods (methods without implementation) and also concrete methods (with implementation).\n",
        "\n",
        "# You cannot create an object of an abstract class.\n",
        "\n",
        "# It's used when you want to enforce a design or contract in your subclasses."
      ],
      "metadata": {
        "id": "c-OiCyvPumyP"
      },
      "execution_count": 126,
      "outputs": []
    },
    {
      "cell_type": "code",
      "source": [],
      "metadata": {
        "id": "xv1bARmauvzl"
      },
      "execution_count": null,
      "outputs": []
    },
    {
      "cell_type": "code",
      "source": [
        "from abc import ABC, abstractmethod"
      ],
      "metadata": {
        "id": "T8DRPAaFO0Hz"
      },
      "execution_count": 30,
      "outputs": []
    },
    {
      "cell_type": "code",
      "source": [
        "class Farming(ABC):\n",
        "  @abstractmethod\n",
        "  def watering(self):\n",
        "    pass # Abstract method"
      ],
      "metadata": {
        "id": "KO_4B5dxO3lT"
      },
      "execution_count": 128,
      "outputs": []
    },
    {
      "cell_type": "code",
      "source": [
        "oilfarm1 = Farming()"
      ],
      "metadata": {
        "colab": {
          "base_uri": "https://localhost:8080/",
          "height": 141
        },
        "id": "K-Uw7Ie_O_6r",
        "outputId": "8414d2bc-a18e-4a6b-b6f8-d5876abc787c"
      },
      "execution_count": 12,
      "outputs": [
        {
          "output_type": "error",
          "ename": "TypeError",
          "evalue": "Can't instantiate abstract class Farming with abstract method watering",
          "traceback": [
            "\u001b[0;31m---------------------------------------------------------------------------\u001b[0m",
            "\u001b[0;31mTypeError\u001b[0m                                 Traceback (most recent call last)",
            "\u001b[0;32m<ipython-input-12-7dc49cfe2880>\u001b[0m in \u001b[0;36m<cell line: 0>\u001b[0;34m()\u001b[0m\n\u001b[0;32m----> 1\u001b[0;31m \u001b[0moilfarm1\u001b[0m \u001b[0;34m=\u001b[0m \u001b[0mFarming\u001b[0m\u001b[0;34m(\u001b[0m\u001b[0;34m)\u001b[0m\u001b[0;34m\u001b[0m\u001b[0;34m\u001b[0m\u001b[0m\n\u001b[0m",
            "\u001b[0;31mTypeError\u001b[0m: Can't instantiate abstract class Farming with abstract method watering"
          ]
        }
      ]
    },
    {
      "cell_type": "code",
      "source": [
        "class Farming_child(Farming):\n",
        "  pass"
      ],
      "metadata": {
        "id": "swohx-PzoIJZ"
      },
      "execution_count": 13,
      "outputs": []
    },
    {
      "cell_type": "code",
      "source": [
        "oilfarm2 = Farming_child()"
      ],
      "metadata": {
        "colab": {
          "base_uri": "https://localhost:8080/",
          "height": 141
        },
        "id": "m84UmI--oPUX",
        "outputId": "7af1c706-b95a-442e-dd13-303e38f8ca59"
      },
      "execution_count": 14,
      "outputs": [
        {
          "output_type": "error",
          "ename": "TypeError",
          "evalue": "Can't instantiate abstract class Farming_child with abstract method watering",
          "traceback": [
            "\u001b[0;31m---------------------------------------------------------------------------\u001b[0m",
            "\u001b[0;31mTypeError\u001b[0m                                 Traceback (most recent call last)",
            "\u001b[0;32m<ipython-input-14-60edd9ce2c76>\u001b[0m in \u001b[0;36m<cell line: 0>\u001b[0;34m()\u001b[0m\n\u001b[0;32m----> 1\u001b[0;31m \u001b[0moilfarm2\u001b[0m \u001b[0;34m=\u001b[0m \u001b[0mFarming_child\u001b[0m\u001b[0;34m(\u001b[0m\u001b[0;34m)\u001b[0m\u001b[0;34m\u001b[0m\u001b[0;34m\u001b[0m\u001b[0m\n\u001b[0m",
            "\u001b[0;31mTypeError\u001b[0m: Can't instantiate abstract class Farming_child with abstract method watering"
          ]
        }
      ]
    },
    {
      "cell_type": "code",
      "source": [
        "class Farming_child(Farming):\n",
        "  def watering(self):\n",
        "    print(\"Water once in 4 days\")"
      ],
      "metadata": {
        "id": "J4jeBV7koaF_"
      },
      "execution_count": 15,
      "outputs": []
    },
    {
      "cell_type": "code",
      "source": [
        "oilfarm3 = Farming_child()"
      ],
      "metadata": {
        "id": "U_bM_q4togel"
      },
      "execution_count": 16,
      "outputs": []
    },
    {
      "cell_type": "code",
      "source": [
        "oilfarm3.watering()"
      ],
      "metadata": {
        "colab": {
          "base_uri": "https://localhost:8080/"
        },
        "id": "IO1UUo-woipn",
        "outputId": "20098632-6517-4bbf-80fe-9ee1d1b1c318"
      },
      "execution_count": 17,
      "outputs": [
        {
          "output_type": "stream",
          "name": "stdout",
          "text": [
            "Water once in 4 days\n"
          ]
        }
      ]
    },
    {
      "cell_type": "code",
      "source": [
        "class FarmingLife(ABC):\n",
        "  @abstractmethod\n",
        "  def watering(self):\n",
        "    pass # Abstract method\n",
        "  @abstractmethod\n",
        "  def fertilizing(self):\n",
        "    pass # Abstract method\n",
        "  @abstractmethod\n",
        "  def weedremoving(self):\n",
        "    pass # Abstract method\n",
        "  @abstractmethod\n",
        "  def harvesting(self):\n",
        "    pass # Abstract method\n",
        ""
      ],
      "metadata": {
        "id": "rpOztj53pNsH"
      },
      "execution_count": 51,
      "outputs": []
    },
    {
      "cell_type": "code",
      "source": [
        "Farm1 = FarmingLife()"
      ],
      "metadata": {
        "colab": {
          "base_uri": "https://localhost:8080/",
          "height": 158
        },
        "id": "hY6bYO_epkcx",
        "outputId": "abdd263f-0b1f-422b-8dfe-68332b332713"
      },
      "execution_count": 86,
      "outputs": [
        {
          "output_type": "error",
          "ename": "TypeError",
          "evalue": "Can't instantiate abstract class FarmingLife with abstract methods fertilizing, harvesting, watering, weedremoving",
          "traceback": [
            "\u001b[0;31m---------------------------------------------------------------------------\u001b[0m",
            "\u001b[0;31mTypeError\u001b[0m                                 Traceback (most recent call last)",
            "\u001b[0;32m<ipython-input-86-e7714f665cab>\u001b[0m in \u001b[0;36m<cell line: 0>\u001b[0;34m()\u001b[0m\n\u001b[0;32m----> 1\u001b[0;31m \u001b[0mFarm1\u001b[0m \u001b[0;34m=\u001b[0m \u001b[0mFarmingLife\u001b[0m\u001b[0;34m(\u001b[0m\u001b[0;34m)\u001b[0m\u001b[0;34m\u001b[0m\u001b[0;34m\u001b[0m\u001b[0m\n\u001b[0m",
            "\u001b[0;31mTypeError\u001b[0m: Can't instantiate abstract class FarmingLife with abstract methods fertilizing, harvesting, watering, weedremoving"
          ]
        }
      ]
    },
    {
      "cell_type": "code",
      "source": [
        "class FarmingLife(ABC):\n",
        "  @abstractmethod\n",
        "  def watering(self):\n",
        "    pass\n",
        "  @abstractmethod\n",
        "  def fertilizing(self):\n",
        "    pass\n",
        "  @abstractmethod\n",
        "  def weedremoving(self):\n",
        "    pass\n",
        "  @abstractmethod\n",
        "  def harvesting(self):\n",
        "    pass\n",
        ""
      ],
      "metadata": {
        "id": "zX0VlsEjpzcN"
      },
      "execution_count": 83,
      "outputs": []
    },
    {
      "cell_type": "code",
      "source": [
        "class FarmingLife_child(FarmingLife):\n",
        "  def watering(self):\n",
        "    print(\"Water once in 4 days\")\n",
        "  def fertilizing(self):\n",
        "    print(\"fertilizw once in 4 months\")\n",
        "  def weedremoving(self):\n",
        "    print(\"weedremove once in 3 months\")\n",
        ""
      ],
      "metadata": {
        "id": "8bW3MlYFp84g"
      },
      "execution_count": 84,
      "outputs": []
    },
    {
      "cell_type": "code",
      "source": [
        "FarmingLife_child()\n",
        "#erro due to harvesting is not part of child where you have geiven compulsary based abstarct command"
      ],
      "metadata": {
        "colab": {
          "base_uri": "https://localhost:8080/",
          "height": 141
        },
        "id": "Ta6fXSTJsEKG",
        "outputId": "bbd54243-163f-4e3a-fe74-538e729c2753"
      },
      "execution_count": 87,
      "outputs": [
        {
          "output_type": "error",
          "ename": "TypeError",
          "evalue": "Can't instantiate abstract class FarmingLife_child with abstract method harvesting",
          "traceback": [
            "\u001b[0;31m---------------------------------------------------------------------------\u001b[0m",
            "\u001b[0;31mTypeError\u001b[0m                                 Traceback (most recent call last)",
            "\u001b[0;32m<ipython-input-87-4460e6da095e>\u001b[0m in \u001b[0;36m<cell line: 0>\u001b[0;34m()\u001b[0m\n\u001b[0;32m----> 1\u001b[0;31m \u001b[0mFarmingLife_child\u001b[0m\u001b[0;34m(\u001b[0m\u001b[0;34m)\u001b[0m\u001b[0;34m\u001b[0m\u001b[0;34m\u001b[0m\u001b[0m\n\u001b[0m",
            "\u001b[0;31mTypeError\u001b[0m: Can't instantiate abstract class FarmingLife_child with abstract method harvesting"
          ]
        }
      ]
    },
    {
      "cell_type": "code",
      "source": [
        "class FarmingLife(ABC):\n",
        "  @abstractmethod\n",
        "  def watering(self):\n",
        "    pass\n",
        ""
      ],
      "metadata": {
        "id": "m_4AqKgfp-oV"
      },
      "execution_count": 88,
      "outputs": []
    },
    {
      "cell_type": "code",
      "source": [
        "Farm1 = FarmingLife()"
      ],
      "metadata": {
        "colab": {
          "base_uri": "https://localhost:8080/",
          "height": 141
        },
        "id": "CEYU16NoqE5E",
        "outputId": "36470645-c6de-4f5f-a8e9-3faa9ea4a52e"
      },
      "execution_count": 89,
      "outputs": [
        {
          "output_type": "error",
          "ename": "TypeError",
          "evalue": "Can't instantiate abstract class FarmingLife with abstract method watering",
          "traceback": [
            "\u001b[0;31m---------------------------------------------------------------------------\u001b[0m",
            "\u001b[0;31mTypeError\u001b[0m                                 Traceback (most recent call last)",
            "\u001b[0;32m<ipython-input-89-e7714f665cab>\u001b[0m in \u001b[0;36m<cell line: 0>\u001b[0;34m()\u001b[0m\n\u001b[0;32m----> 1\u001b[0;31m \u001b[0mFarm1\u001b[0m \u001b[0;34m=\u001b[0m \u001b[0mFarmingLife\u001b[0m\u001b[0;34m(\u001b[0m\u001b[0;34m)\u001b[0m\u001b[0;34m\u001b[0m\u001b[0;34m\u001b[0m\u001b[0m\n\u001b[0m",
            "\u001b[0;31mTypeError\u001b[0m: Can't instantiate abstract class FarmingLife with abstract method watering"
          ]
        }
      ]
    },
    {
      "cell_type": "code",
      "source": [
        "class FarmingLife(ABC):\n",
        "  @abstractmethod\n",
        "  def watering(self):\n",
        "    pass\n",
        "  @abstractmethod\n",
        "  def fertilizing(self):\n",
        "    pass\n",
        "  @abstractmethod\n",
        "  def weedremoving(self):\n",
        "    pass\n",
        "  @abstractmethod\n",
        "  def harvesting(self):\n",
        "    pass\n",
        ""
      ],
      "metadata": {
        "id": "I-Q-Q2p5quoo"
      },
      "execution_count": 106,
      "outputs": []
    },
    {
      "cell_type": "code",
      "source": [
        "class FarmingLife_child(FarmingLife):\n",
        "  def watering(self):\n",
        "    print(\"Water once in 4 days\")\n",
        "  def fertilizing(self):\n",
        "    print(\"fertilizw once in 4 months\")\n",
        "  def weedremoving(self):\n",
        "    print(\"weedremove once in 3 months\")\n",
        "  def harvesting(self):\n",
        "    print(\"harveste when fruit is matured\")\n",
        ""
      ],
      "metadata": {
        "id": "IhhZv9aurZAI"
      },
      "execution_count": 90,
      "outputs": []
    },
    {
      "cell_type": "code",
      "source": [
        "farm3 = FarmingLife_child()"
      ],
      "metadata": {
        "id": "MaecvxJGq1og"
      },
      "execution_count": 91,
      "outputs": []
    },
    {
      "cell_type": "code",
      "source": [
        "farm3.fertilizing()"
      ],
      "metadata": {
        "colab": {
          "base_uri": "https://localhost:8080/"
        },
        "id": "UP1JQxkBryuQ",
        "outputId": "884d5b14-d301-4fd9-862a-e5191f228a06"
      },
      "execution_count": 59,
      "outputs": [
        {
          "output_type": "stream",
          "name": "stdout",
          "text": [
            "fertilizw once in 4 months\n"
          ]
        }
      ]
    },
    {
      "cell_type": "code",
      "source": [
        "farm3.weedremoving()"
      ],
      "metadata": {
        "colab": {
          "base_uri": "https://localhost:8080/"
        },
        "id": "2TtDRUbXs5SI",
        "outputId": "92383116-efaa-496f-d019-0a7e75e5d17f"
      },
      "execution_count": 92,
      "outputs": [
        {
          "output_type": "stream",
          "name": "stdout",
          "text": [
            "weedremove once in 3 months\n"
          ]
        }
      ]
    },
    {
      "cell_type": "code",
      "source": [
        "class FarmingLife_child(FarmingLife):\n",
        "  def watering(self):\n",
        "    print(\"Water once in 4 days\")\n",
        "  def fertilizing(self):\n",
        "    print(\"fertilizw once in 4 months\")\n",
        "  def weedremoving(self):\n",
        "    print(\"weedremove once in 3 months\")\n",
        "  def harvesting(self):\n",
        "    print(\"harveste when fruit is matured\")\n",
        "  def planting(self):\n",
        "    print(\"plant new plants\")"
      ],
      "metadata": {
        "id": "bFgvHtSxs7gf"
      },
      "execution_count": 93,
      "outputs": []
    },
    {
      "cell_type": "code",
      "source": [
        "farm4 = FarmingLife_child()"
      ],
      "metadata": {
        "id": "ZwG2rwEvtCeI"
      },
      "execution_count": 94,
      "outputs": []
    },
    {
      "cell_type": "code",
      "source": [
        "farm4.planting()\n",
        "farm4.weedremoving()\n",
        "farm4.watering()\n",
        "farm4.harvesting()\n"
      ],
      "metadata": {
        "colab": {
          "base_uri": "https://localhost:8080/"
        },
        "id": "oko8aEU-tFiI",
        "outputId": "b0c70c0e-43b1-4b5f-8d26-743218ffe30c"
      },
      "execution_count": 98,
      "outputs": [
        {
          "output_type": "stream",
          "name": "stdout",
          "text": [
            "plant new plants\n",
            "weedremove once in 3 months\n",
            "Water once in 4 days\n",
            "harveste when fruit is matured\n"
          ]
        }
      ]
    },
    {
      "cell_type": "code",
      "source": [],
      "metadata": {
        "colab": {
          "base_uri": "https://localhost:8080/"
        },
        "id": "82nZRLNXtHUO",
        "outputId": "f2424a01-33ca-4d9b-f729-24b0da05a3cf"
      },
      "execution_count": 96,
      "outputs": [
        {
          "output_type": "stream",
          "name": "stdout",
          "text": [
            "weedremove once in 3 months\n"
          ]
        }
      ]
    },
    {
      "cell_type": "code",
      "source": [
        "class FarmingLife_child(FarmingLife):\n",
        "  def watering(self):\n",
        "    pass\n",
        "  def fertilizing(self):\n",
        "    pass\n",
        "  def weedremoving(self):\n",
        "    print(\"weedremove once in 3 months\")\n",
        "  def harvesting(self):\n",
        "    print(\"harveste when fruit is matured\")\n",
        "  def planting(self):\n",
        "    print(\"plant new plants\")"
      ],
      "metadata": {
        "id": "Lg_LTfsttR7I"
      },
      "execution_count": 99,
      "outputs": []
    },
    {
      "cell_type": "code",
      "source": [
        "farm5 = FarmingLife_child()"
      ],
      "metadata": {
        "id": "pYsLNk2Htay-"
      },
      "execution_count": 100,
      "outputs": []
    },
    {
      "cell_type": "code",
      "source": [
        "farm5.watering()\n",
        "farm5.fertilizing()\n",
        "farm5.weedremoving()\n",
        "farm5.harvesting()\n",
        "farm5.planting()"
      ],
      "metadata": {
        "colab": {
          "base_uri": "https://localhost:8080/"
        },
        "id": "SugCeQJPtcwv",
        "outputId": "802fe7d1-aae2-431f-b931-a17b7a31e3a0"
      },
      "execution_count": 101,
      "outputs": [
        {
          "output_type": "stream",
          "name": "stdout",
          "text": [
            "weedremove once in 3 months\n",
            "harveste when fruit is matured\n",
            "plant new plants\n"
          ]
        }
      ]
    },
    {
      "cell_type": "code",
      "source": [
        "class FarmingLife_child(FarmingLife):\n",
        "  def watering(self):\n",
        "    pass\n",
        "  def fertilizing(self):\n",
        "    pass\n",
        "  def harvesting(self):\n",
        "    print(\"harveste when fruit is matured\")\n",
        "  def planting(self):\n",
        "    print(\"plant new plants\")"
      ],
      "metadata": {
        "id": "FcyARMnLtlDF"
      },
      "execution_count": 107,
      "outputs": []
    },
    {
      "cell_type": "code",
      "source": [
        "farm7 = FarmingLife_child()"
      ],
      "metadata": {
        "colab": {
          "base_uri": "https://localhost:8080/",
          "height": 141
        },
        "id": "JyT-MAWxtnqw",
        "outputId": "6f0e8987-55c5-4caa-c00c-525c8c3ca15a"
      },
      "execution_count": 120,
      "outputs": [
        {
          "output_type": "error",
          "ename": "TypeError",
          "evalue": "Can't instantiate abstract class FarmingLife_child with abstract method weedremoving",
          "traceback": [
            "\u001b[0;31m---------------------------------------------------------------------------\u001b[0m",
            "\u001b[0;31mTypeError\u001b[0m                                 Traceback (most recent call last)",
            "\u001b[0;32m<ipython-input-120-4eba2943fb10>\u001b[0m in \u001b[0;36m<cell line: 0>\u001b[0;34m()\u001b[0m\n\u001b[0;32m----> 1\u001b[0;31m \u001b[0mfarm7\u001b[0m \u001b[0;34m=\u001b[0m \u001b[0mFarmingLife_child\u001b[0m\u001b[0;34m(\u001b[0m\u001b[0;34m)\u001b[0m\u001b[0;34m\u001b[0m\u001b[0;34m\u001b[0m\u001b[0m\n\u001b[0m",
            "\u001b[0;31mTypeError\u001b[0m: Can't instantiate abstract class FarmingLife_child with abstract method weedremoving"
          ]
        }
      ]
    },
    {
      "cell_type": "code",
      "source": [
        "farm7.harvesting()"
      ],
      "metadata": {
        "colab": {
          "base_uri": "https://localhost:8080/",
          "height": 141
        },
        "id": "D9UzAAGDtp6g",
        "outputId": "e6741b9a-dd9c-4169-c8ba-a1ec9d63ae28"
      },
      "execution_count": 122,
      "outputs": [
        {
          "output_type": "error",
          "ename": "NameError",
          "evalue": "name 'farm7' is not defined",
          "traceback": [
            "\u001b[0;31m---------------------------------------------------------------------------\u001b[0m",
            "\u001b[0;31mNameError\u001b[0m                                 Traceback (most recent call last)",
            "\u001b[0;32m<ipython-input-122-7e01f5620a99>\u001b[0m in \u001b[0;36m<cell line: 0>\u001b[0;34m()\u001b[0m\n\u001b[0;32m----> 1\u001b[0;31m \u001b[0mfarm7\u001b[0m\u001b[0;34m.\u001b[0m\u001b[0mharvesting\u001b[0m\u001b[0;34m(\u001b[0m\u001b[0;34m)\u001b[0m\u001b[0;34m\u001b[0m\u001b[0;34m\u001b[0m\u001b[0m\n\u001b[0m",
            "\u001b[0;31mNameError\u001b[0m: name 'farm7' is not defined"
          ]
        }
      ]
    },
    {
      "cell_type": "code",
      "source": [
        "class FarmingLife(ABC):\n",
        "  @abstractmethod\n",
        "  def watering(self):\n",
        "    pass\n",
        "  def fertilizing(self):\n",
        "    pass\n",
        "\n",
        ""
      ],
      "metadata": {
        "id": "OdX5bDdXvIQX"
      },
      "execution_count": 129,
      "outputs": []
    },
    {
      "cell_type": "code",
      "source": [
        "FarmingLife()"
      ],
      "metadata": {
        "colab": {
          "base_uri": "https://localhost:8080/",
          "height": 141
        },
        "id": "y47L612EvK4E",
        "outputId": "fa7d53f0-858c-41e2-ea91-489fccbb73c0"
      },
      "execution_count": 130,
      "outputs": [
        {
          "output_type": "error",
          "ename": "TypeError",
          "evalue": "Can't instantiate abstract class FarmingLife with abstract method watering",
          "traceback": [
            "\u001b[0;31m---------------------------------------------------------------------------\u001b[0m",
            "\u001b[0;31mTypeError\u001b[0m                                 Traceback (most recent call last)",
            "\u001b[0;32m<ipython-input-130-cf1e37a82a27>\u001b[0m in \u001b[0;36m<cell line: 0>\u001b[0;34m()\u001b[0m\n\u001b[0;32m----> 1\u001b[0;31m \u001b[0mFarmingLife\u001b[0m\u001b[0;34m(\u001b[0m\u001b[0;34m)\u001b[0m\u001b[0;34m\u001b[0m\u001b[0;34m\u001b[0m\u001b[0m\n\u001b[0m",
            "\u001b[0;31mTypeError\u001b[0m: Can't instantiate abstract class FarmingLife with abstract method watering"
          ]
        }
      ]
    },
    {
      "cell_type": "code",
      "source": [
        "class FarmingLife_child(FarmingLife):\n",
        "  pass"
      ],
      "metadata": {
        "id": "xFWoApyAvMtt"
      },
      "execution_count": 131,
      "outputs": []
    },
    {
      "cell_type": "code",
      "source": [
        "FarmingLife_child()"
      ],
      "metadata": {
        "colab": {
          "base_uri": "https://localhost:8080/",
          "height": 141
        },
        "id": "GK9SYcbJvTcO",
        "outputId": "d8da959d-d9a5-4577-bd46-31c66ce6b6e5"
      },
      "execution_count": 132,
      "outputs": [
        {
          "output_type": "error",
          "ename": "TypeError",
          "evalue": "Can't instantiate abstract class FarmingLife_child with abstract method watering",
          "traceback": [
            "\u001b[0;31m---------------------------------------------------------------------------\u001b[0m",
            "\u001b[0;31mTypeError\u001b[0m                                 Traceback (most recent call last)",
            "\u001b[0;32m<ipython-input-132-4460e6da095e>\u001b[0m in \u001b[0;36m<cell line: 0>\u001b[0;34m()\u001b[0m\n\u001b[0;32m----> 1\u001b[0;31m \u001b[0mFarmingLife_child\u001b[0m\u001b[0;34m(\u001b[0m\u001b[0;34m)\u001b[0m\u001b[0;34m\u001b[0m\u001b[0;34m\u001b[0m\u001b[0m\n\u001b[0m",
            "\u001b[0;31mTypeError\u001b[0m: Can't instantiate abstract class FarmingLife_child with abstract method watering"
          ]
        }
      ]
    },
    {
      "cell_type": "code",
      "source": [
        "class FarmingLife_child(FarmingLife):\n",
        "    def watering(self):\n",
        "      pass"
      ],
      "metadata": {
        "id": "syKFt78MvWrU"
      },
      "execution_count": 133,
      "outputs": []
    },
    {
      "cell_type": "code",
      "source": [
        "FarmingLife_child().watering()"
      ],
      "metadata": {
        "id": "qBE8ObkKvaZd"
      },
      "execution_count": 135,
      "outputs": []
    },
    {
      "cell_type": "code",
      "source": [
        "FarmingLife_child().fertilizing()"
      ],
      "metadata": {
        "id": "ndBkMpV0vcnn"
      },
      "execution_count": 136,
      "outputs": []
    },
    {
      "cell_type": "code",
      "source": [],
      "metadata": {
        "id": "T6xh5DvXvguM"
      },
      "execution_count": null,
      "outputs": []
    }
  ]
}