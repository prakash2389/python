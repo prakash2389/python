{
  "nbformat": 4,
  "nbformat_minor": 0,
  "metadata": {
    "colab": {
      "provenance": []
    },
    "kernelspec": {
      "name": "python3",
      "display_name": "Python 3"
    },
    "language_info": {
      "name": "python"
    }
  },
  "cells": [
    {
      "cell_type": "code",
      "execution_count": null,
      "metadata": {
        "id": "bhz36zyZf8h4"
      },
      "outputs": [],
      "source": [
        "# Function with Defnition"
      ]
    },
    {
      "cell_type": "code",
      "source": [
        "# first element_finder\n",
        "from typing import List, Any\n",
        "def search_fucntion(lst : List, searchval: Any) -> int:\n",
        "  for i in range(len(lst)):\n",
        "    if lst[i] == searchval:\n",
        "      return i\n",
        "  return -1"
      ],
      "metadata": {
        "id": "D45Se1ociitR"
      },
      "execution_count": 37,
      "outputs": []
    },
    {
      "cell_type": "code",
      "source": [
        "search_fucntion([2,5,8,12,45,\"34\", True, \"34\", 12], \"34\")"
      ],
      "metadata": {
        "colab": {
          "base_uri": "https://localhost:8080/"
        },
        "id": "GGua0vAIjDAK",
        "outputId": "46969c7d-485d-4542-fc67-2f786c346010"
      },
      "execution_count": 42,
      "outputs": [
        {
          "output_type": "execute_result",
          "data": {
            "text/plain": [
              "5"
            ]
          },
          "metadata": {},
          "execution_count": 42
        }
      ]
    },
    {
      "cell_type": "code",
      "source": [
        "# nth element_finder\n",
        "from typing import List, Any\n",
        "def search_fucntion_nth(lst : List, searchval: Any, howmany: int) -> int:\n",
        "  n=0\n",
        "  for i in range(len(lst)):\n",
        "    if lst[i] == searchval:\n",
        "      n+=1\n",
        "      if howmany==n:\n",
        "        return i\n",
        "  return -1"
      ],
      "metadata": {
        "id": "RAKUPkZojV6a"
      },
      "execution_count": 45,
      "outputs": []
    },
    {
      "cell_type": "code",
      "source": [
        "search_fucntion_nth([2,5,8,12,45,\"34\", True, \"34\", 12], \"34\",1)"
      ],
      "metadata": {
        "colab": {
          "base_uri": "https://localhost:8080/"
        },
        "id": "7jkYSYN-khBK",
        "outputId": "80432167-3f81-4d3c-d3a4-c4669c3c9163"
      },
      "execution_count": 46,
      "outputs": [
        {
          "output_type": "execute_result",
          "data": {
            "text/plain": [
              "5"
            ]
          },
          "metadata": {},
          "execution_count": 46
        }
      ]
    },
    {
      "cell_type": "code",
      "source": [
        "search_fucntion_nth([2,5,8,12,45,\"34\", True, \"34\", 12], \"34\",2)"
      ],
      "metadata": {
        "colab": {
          "base_uri": "https://localhost:8080/"
        },
        "id": "SX-9sGaykmjB",
        "outputId": "50b9e458-59fb-496e-d04e-a02916e28989"
      },
      "execution_count": 47,
      "outputs": [
        {
          "output_type": "execute_result",
          "data": {
            "text/plain": [
              "7"
            ]
          },
          "metadata": {},
          "execution_count": 47
        }
      ]
    },
    {
      "cell_type": "code",
      "source": [
        "search_fucntion_nth([2,5,8,12,45,\"34\", True, \"34\", 12], \"34\",3)"
      ],
      "metadata": {
        "colab": {
          "base_uri": "https://localhost:8080/"
        },
        "id": "0_voICzMkn1a",
        "outputId": "202cbae4-33d4-4453-ccad-3342e37cd465"
      },
      "execution_count": 48,
      "outputs": [
        {
          "output_type": "execute_result",
          "data": {
            "text/plain": [
              "-1"
            ]
          },
          "metadata": {},
          "execution_count": 48
        }
      ]
    },
    {
      "cell_type": "code",
      "source": [],
      "metadata": {
        "id": "6_-vYJu4kgy5"
      },
      "execution_count": null,
      "outputs": []
    },
    {
      "cell_type": "code",
      "source": [
        "def area_of_square(l: float) -> float:\n",
        "  return l**2"
      ],
      "metadata": {
        "id": "MMSW4u2wgAv6"
      },
      "execution_count": 2,
      "outputs": []
    },
    {
      "cell_type": "code",
      "source": [
        "def area_of_circle(radius: float) -> float:\n",
        "  from numpy import pi\n",
        "  return pi * radius**2"
      ],
      "metadata": {
        "id": "HJDnUO6wgQfo"
      },
      "execution_count": 3,
      "outputs": []
    },
    {
      "cell_type": "code",
      "source": [
        "area_of_square(4.3)"
      ],
      "metadata": {
        "colab": {
          "base_uri": "https://localhost:8080/"
        },
        "id": "nXP7NorRgbSa",
        "outputId": "29cf1d27-7006-46a6-e2be-99e9a1bb1339"
      },
      "execution_count": 5,
      "outputs": [
        {
          "output_type": "execute_result",
          "data": {
            "text/plain": [
              "18.49"
            ]
          },
          "metadata": {},
          "execution_count": 5
        }
      ]
    },
    {
      "cell_type": "code",
      "source": [
        "area_of_circle(4.3)"
      ],
      "metadata": {
        "colab": {
          "base_uri": "https://localhost:8080/"
        },
        "id": "W19pZezagf-B",
        "outputId": "e6c67457-d560-42a2-de57-d873b3a81d85"
      },
      "execution_count": 6,
      "outputs": [
        {
          "output_type": "execute_result",
          "data": {
            "text/plain": [
              "58.08804816487527"
            ]
          },
          "metadata": {},
          "execution_count": 6
        }
      ]
    },
    {
      "cell_type": "code",
      "source": [
        "class geometry:\n",
        "  def __init__(self, l: float, r: float):\n",
        "    self.l = l\n",
        "    self.r = r\n",
        "  def area_of_square(self) -> float:\n",
        "    return self.l**2\n",
        "  def area_of_circle(self) -> float:\n",
        "    from numpy import pi\n",
        "    return pi * self.r**2"
      ],
      "metadata": {
        "id": "IhukXt4BgmAh"
      },
      "execution_count": 10,
      "outputs": []
    },
    {
      "cell_type": "code",
      "source": [
        "g = geometry( 6, 3)"
      ],
      "metadata": {
        "id": "E57ZMGpdg4GZ"
      },
      "execution_count": 17,
      "outputs": []
    },
    {
      "cell_type": "code",
      "source": [
        "g.area_of_circle()"
      ],
      "metadata": {
        "colab": {
          "base_uri": "https://localhost:8080/"
        },
        "id": "GuR38wzKg8sB",
        "outputId": "804f5339-127a-43eb-f2c0-51d08c5f6e15"
      },
      "execution_count": 18,
      "outputs": [
        {
          "output_type": "execute_result",
          "data": {
            "text/plain": [
              "28.274333882308138"
            ]
          },
          "metadata": {},
          "execution_count": 18
        }
      ]
    },
    {
      "cell_type": "code",
      "source": [
        "g.area_of_square()"
      ],
      "metadata": {
        "colab": {
          "base_uri": "https://localhost:8080/"
        },
        "id": "5WTMHjmchCgi",
        "outputId": "1b911181-e150-41ac-d8e4-4f81f96f3601"
      },
      "execution_count": 19,
      "outputs": [
        {
          "output_type": "execute_result",
          "data": {
            "text/plain": [
              "36"
            ]
          },
          "metadata": {},
          "execution_count": 19
        }
      ]
    },
    {
      "cell_type": "code",
      "source": [
        "g.l"
      ],
      "metadata": {
        "colab": {
          "base_uri": "https://localhost:8080/"
        },
        "id": "lq34OhSphEPh",
        "outputId": "42dc527b-71fa-48ee-fa3a-1b197e7bc6e9"
      },
      "execution_count": 20,
      "outputs": [
        {
          "output_type": "execute_result",
          "data": {
            "text/plain": [
              "6"
            ]
          },
          "metadata": {},
          "execution_count": 20
        }
      ]
    },
    {
      "cell_type": "code",
      "source": [
        "class geometry:\n",
        "  def __init__(self):\n",
        "    self.area_square = 0\n",
        "    self.area_circle = 0\n",
        "  def area_of_square(self, l: float) -> float:\n",
        "    self.area_square = l**2\n",
        "    return l**2\n",
        "  def area_of_circle(self, r: float) -> float:\n",
        "    from numpy import pi\n",
        "    self.area_circle =pi * r**2\n",
        "    return pi * r**2"
      ],
      "metadata": {
        "id": "7dhzjqachQDp"
      },
      "execution_count": 29,
      "outputs": []
    },
    {
      "cell_type": "code",
      "source": [
        "geo = geometry()"
      ],
      "metadata": {
        "id": "xWhoFnQ-hy8a"
      },
      "execution_count": 30,
      "outputs": []
    },
    {
      "cell_type": "code",
      "source": [
        "geo.area_square"
      ],
      "metadata": {
        "colab": {
          "base_uri": "https://localhost:8080/"
        },
        "id": "Gok03YtBh0zp",
        "outputId": "9e89c0d6-df42-4143-b80f-85ba9dc40a4b"
      },
      "execution_count": 31,
      "outputs": [
        {
          "output_type": "execute_result",
          "data": {
            "text/plain": [
              "0"
            ]
          },
          "metadata": {},
          "execution_count": 31
        }
      ]
    },
    {
      "cell_type": "code",
      "source": [
        "geo.area_circle"
      ],
      "metadata": {
        "colab": {
          "base_uri": "https://localhost:8080/"
        },
        "id": "8CjCKJv8h2J5",
        "outputId": "325d61e4-c96c-4ee7-d12c-e2e55e1242b0"
      },
      "execution_count": 32,
      "outputs": [
        {
          "output_type": "execute_result",
          "data": {
            "text/plain": [
              "0"
            ]
          },
          "metadata": {},
          "execution_count": 32
        }
      ]
    },
    {
      "cell_type": "code",
      "source": [
        "geo.area_of_square(6)\n",
        "geo.area_of_circle(3)"
      ],
      "metadata": {
        "colab": {
          "base_uri": "https://localhost:8080/"
        },
        "id": "utyMNKP5iSPa",
        "outputId": "53023e63-4902-412c-aea1-8db2c03f84cb"
      },
      "execution_count": 33,
      "outputs": [
        {
          "output_type": "execute_result",
          "data": {
            "text/plain": [
              "28.274333882308138"
            ]
          },
          "metadata": {},
          "execution_count": 33
        }
      ]
    },
    {
      "cell_type": "code",
      "source": [
        "geo.area_square"
      ],
      "metadata": {
        "colab": {
          "base_uri": "https://localhost:8080/"
        },
        "id": "NHINxWxfiUaD",
        "outputId": "d23474e1-03b4-44a4-8766-f560f7993c91"
      },
      "execution_count": 34,
      "outputs": [
        {
          "output_type": "execute_result",
          "data": {
            "text/plain": [
              "36"
            ]
          },
          "metadata": {},
          "execution_count": 34
        }
      ]
    },
    {
      "cell_type": "code",
      "source": [
        "geo.area_circle"
      ],
      "metadata": {
        "colab": {
          "base_uri": "https://localhost:8080/"
        },
        "id": "U6CYxMNOidTB",
        "outputId": "2199f2d3-85ca-4ade-ea18-a2f2cbd77fa0"
      },
      "execution_count": 35,
      "outputs": [
        {
          "output_type": "execute_result",
          "data": {
            "text/plain": [
              "28.274333882308138"
            ]
          },
          "metadata": {},
          "execution_count": 35
        }
      ]
    }
  ]
}