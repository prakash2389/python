{
  "nbformat": 4,
  "nbformat_minor": 0,
  "metadata": {
    "colab": {
      "provenance": []
    },
    "kernelspec": {
      "name": "python3",
      "display_name": "Python 3"
    },
    "language_info": {
      "name": "python"
    }
  },
  "cells": [
    {
      "cell_type": "code",
      "execution_count": 54,
      "metadata": {
        "id": "i6TWd3e2zRiA"
      },
      "outputs": [],
      "source": [
        "class PrakashLists:\n",
        "  def __init__(self, list):\n",
        "    self.list = list\n",
        "    self.len = len(list)\n",
        "\n",
        "  def add(self, new_val):\n",
        "    self.list.append(new_val)\n",
        "    self.len = self.len + 1\n",
        "  def sum(self):\n",
        "    print(\"sum is \" + str(sum(self.list)))\n",
        "    return sum(self.list)"
      ]
    },
    {
      "cell_type": "code",
      "source": [
        "#Call class\n",
        "plst = PrakashLists([1,2,3,4,5])"
      ],
      "metadata": {
        "id": "UY-r4qgu0Zsh"
      },
      "execution_count": 55,
      "outputs": []
    },
    {
      "cell_type": "code",
      "source": [
        "plst.len"
      ],
      "metadata": {
        "colab": {
          "base_uri": "https://localhost:8080/"
        },
        "id": "AyTpJPqH0gpY",
        "outputId": "a5cc4cc3-b282-4d30-ca30-5087f9a227cb"
      },
      "execution_count": 56,
      "outputs": [
        {
          "output_type": "execute_result",
          "data": {
            "text/plain": [
              "5"
            ]
          },
          "metadata": {},
          "execution_count": 56
        }
      ]
    },
    {
      "cell_type": "code",
      "source": [
        "plst.add(100)"
      ],
      "metadata": {
        "id": "7ole2-n20ih4"
      },
      "execution_count": 57,
      "outputs": []
    },
    {
      "cell_type": "code",
      "source": [
        "plst.len"
      ],
      "metadata": {
        "colab": {
          "base_uri": "https://localhost:8080/"
        },
        "id": "kw-SE7ui0lvx",
        "outputId": "febc7f1f-2640-425e-f473-979ef44ebce8"
      },
      "execution_count": 58,
      "outputs": [
        {
          "output_type": "execute_result",
          "data": {
            "text/plain": [
              "6"
            ]
          },
          "metadata": {},
          "execution_count": 58
        }
      ]
    },
    {
      "cell_type": "code",
      "source": [
        "plst.sum()"
      ],
      "metadata": {
        "colab": {
          "base_uri": "https://localhost:8080/"
        },
        "id": "dhkY9v_q0nRg",
        "outputId": "0b557c0f-b1a3-4501-edd9-db6c2d09ee72"
      },
      "execution_count": 59,
      "outputs": [
        {
          "output_type": "stream",
          "name": "stdout",
          "text": [
            "sum is 115\n"
          ]
        },
        {
          "output_type": "execute_result",
          "data": {
            "text/plain": [
              "115"
            ]
          },
          "metadata": {},
          "execution_count": 59
        }
      ]
    },
    {
      "cell_type": "code",
      "source": [
        "class DhruvLists(PrakashLists):\n",
        "  def __init__(self, list):\n",
        "    PrakashLists.__init__(self, list)\n",
        "\n",
        "  def insert(self, index, value):\n",
        "    if self.len>index:\n",
        "      self.list.insert(index, value)\n",
        "      self.len +=1\n",
        "    else:\n",
        "      print(\"index out of range\")\n",
        "\n",
        "  def insert_new(self, index, value):\n",
        "    if self.len>index:\n",
        "      self.list = self.list[:index] + [value] + self.list[index : ]\n",
        "      self.len +=1\n",
        "    else:\n",
        "      print(\"index out of range\")"
      ],
      "metadata": {
        "id": "f9HMiNJ30rhh"
      },
      "execution_count": 60,
      "outputs": []
    },
    {
      "cell_type": "code",
      "source": [
        "dlst = DhruvLists([10,20,30,40,50])"
      ],
      "metadata": {
        "id": "QIyMrWax1MaR"
      },
      "execution_count": 61,
      "outputs": []
    },
    {
      "cell_type": "code",
      "source": [
        "dlst.list"
      ],
      "metadata": {
        "colab": {
          "base_uri": "https://localhost:8080/"
        },
        "id": "VWDs6uqi1znJ",
        "outputId": "be8f5ec6-e9c7-4f54-80bd-32fd54aac942"
      },
      "execution_count": 62,
      "outputs": [
        {
          "output_type": "execute_result",
          "data": {
            "text/plain": [
              "[10, 20, 30, 40, 50]"
            ]
          },
          "metadata": {},
          "execution_count": 62
        }
      ]
    },
    {
      "cell_type": "code",
      "source": [
        "dlst.add(60)"
      ],
      "metadata": {
        "id": "-leyXKAs112o"
      },
      "execution_count": 63,
      "outputs": []
    },
    {
      "cell_type": "code",
      "source": [
        "dlst.list"
      ],
      "metadata": {
        "colab": {
          "base_uri": "https://localhost:8080/"
        },
        "id": "AITxGCXG14ra",
        "outputId": "e4257108-1d6e-4090-d056-4067701606f7"
      },
      "execution_count": 64,
      "outputs": [
        {
          "output_type": "execute_result",
          "data": {
            "text/plain": [
              "[10, 20, 30, 40, 50, 60]"
            ]
          },
          "metadata": {},
          "execution_count": 64
        }
      ]
    },
    {
      "cell_type": "code",
      "source": [
        "dlst.insert(3, 35)"
      ],
      "metadata": {
        "id": "_u2pMtuV16eA"
      },
      "execution_count": 65,
      "outputs": []
    },
    {
      "cell_type": "code",
      "source": [
        "dlst.list"
      ],
      "metadata": {
        "colab": {
          "base_uri": "https://localhost:8080/"
        },
        "id": "ABCe1ue01-ch",
        "outputId": "d76d1ce7-c957-48d0-aeb7-cc9cbad0ab59"
      },
      "execution_count": 66,
      "outputs": [
        {
          "output_type": "execute_result",
          "data": {
            "text/plain": [
              "[10, 20, 30, 35, 40, 50, 60]"
            ]
          },
          "metadata": {},
          "execution_count": 66
        }
      ]
    },
    {
      "cell_type": "code",
      "source": [
        "dlst.insert_new(4, 399)"
      ],
      "metadata": {
        "id": "7oMqon6X2AHZ"
      },
      "execution_count": 67,
      "outputs": []
    },
    {
      "cell_type": "code",
      "source": [
        "dlst.list"
      ],
      "metadata": {
        "colab": {
          "base_uri": "https://localhost:8080/"
        },
        "id": "dug8f8st2F1p",
        "outputId": "c34c9c42-1f3c-46db-f14d-e2c8ab938393"
      },
      "execution_count": 68,
      "outputs": [
        {
          "output_type": "execute_result",
          "data": {
            "text/plain": [
              "[10, 20, 30, 35, 399, 40, 50, 60]"
            ]
          },
          "metadata": {},
          "execution_count": 68
        }
      ]
    },
    {
      "cell_type": "code",
      "source": [
        "dlst.len"
      ],
      "metadata": {
        "colab": {
          "base_uri": "https://localhost:8080/"
        },
        "id": "YVrOeTyc2TRg",
        "outputId": "9526a3b5-bd89-4947-cf40-de6d1c8c5a3b"
      },
      "execution_count": 69,
      "outputs": [
        {
          "output_type": "execute_result",
          "data": {
            "text/plain": [
              "8"
            ]
          },
          "metadata": {},
          "execution_count": 69
        }
      ]
    },
    {
      "cell_type": "code",
      "source": [
        "dlst.insert_new(4, 399)"
      ],
      "metadata": {
        "id": "4Y6W8E9B2c9Z"
      },
      "execution_count": 70,
      "outputs": []
    },
    {
      "cell_type": "code",
      "source": [
        "dlst.list"
      ],
      "metadata": {
        "colab": {
          "base_uri": "https://localhost:8080/"
        },
        "id": "93F3rc1G2wzx",
        "outputId": "1c09576e-9f39-4638-820c-d9cc16fb6d6e"
      },
      "execution_count": 71,
      "outputs": [
        {
          "output_type": "execute_result",
          "data": {
            "text/plain": [
              "[10, 20, 30, 35, 399, 399, 40, 50, 60]"
            ]
          },
          "metadata": {},
          "execution_count": 71
        }
      ]
    },
    {
      "cell_type": "code",
      "source": [
        "dlst.len"
      ],
      "metadata": {
        "colab": {
          "base_uri": "https://localhost:8080/"
        },
        "id": "KL13KBHk2y5p",
        "outputId": "f48adc40-cd78-45fb-d2b5-98e48b0fe241"
      },
      "execution_count": 72,
      "outputs": [
        {
          "output_type": "execute_result",
          "data": {
            "text/plain": [
              "9"
            ]
          },
          "metadata": {},
          "execution_count": 72
        }
      ]
    },
    {
      "cell_type": "code",
      "source": [
        "dlst.insert_new(4, 399)"
      ],
      "metadata": {
        "id": "DbQ6NdJC3Cyp"
      },
      "execution_count": 73,
      "outputs": []
    },
    {
      "cell_type": "code",
      "source": [
        "dlst.list"
      ],
      "metadata": {
        "colab": {
          "base_uri": "https://localhost:8080/"
        },
        "id": "MCcQL73G3D-Z",
        "outputId": "dd77bed3-b18f-48c1-b3b9-93230278b52b"
      },
      "execution_count": 74,
      "outputs": [
        {
          "output_type": "execute_result",
          "data": {
            "text/plain": [
              "[10, 20, 30, 35, 399, 399, 399, 40, 50, 60]"
            ]
          },
          "metadata": {},
          "execution_count": 74
        }
      ]
    },
    {
      "cell_type": "code",
      "source": [
        "dlst.len"
      ],
      "metadata": {
        "colab": {
          "base_uri": "https://localhost:8080/"
        },
        "id": "RzZ0pnEZ3EzK",
        "outputId": "e5ce8166-bfd4-4afb-d9bd-94a9004af7d5"
      },
      "execution_count": 75,
      "outputs": [
        {
          "output_type": "execute_result",
          "data": {
            "text/plain": [
              "10"
            ]
          },
          "metadata": {},
          "execution_count": 75
        }
      ]
    },
    {
      "cell_type": "code",
      "source": [
        "dlst.add(3)"
      ],
      "metadata": {
        "id": "2U8_4K3a3Gpp"
      },
      "execution_count": 76,
      "outputs": []
    },
    {
      "cell_type": "code",
      "source": [
        "dlst.list(4)"
      ],
      "metadata": {
        "colab": {
          "base_uri": "https://localhost:8080/",
          "height": 146
        },
        "id": "G414dvJW4i0a",
        "outputId": "552a38e9-9534-4523-b207-e9485062af2b"
      },
      "execution_count": 77,
      "outputs": [
        {
          "output_type": "error",
          "ename": "TypeError",
          "evalue": "'list' object is not callable",
          "traceback": [
            "\u001b[0;31m---------------------------------------------------------------------------\u001b[0m",
            "\u001b[0;31mTypeError\u001b[0m                                 Traceback (most recent call last)",
            "\u001b[0;32m<ipython-input-77-e2b632730186>\u001b[0m in \u001b[0;36m<cell line: 0>\u001b[0;34m()\u001b[0m\n\u001b[0;32m----> 1\u001b[0;31m \u001b[0mdlst\u001b[0m\u001b[0;34m.\u001b[0m\u001b[0mlist\u001b[0m\u001b[0;34m(\u001b[0m\u001b[0;36m4\u001b[0m\u001b[0;34m)\u001b[0m\u001b[0;34m\u001b[0m\u001b[0;34m\u001b[0m\u001b[0m\n\u001b[0m",
            "\u001b[0;31mTypeError\u001b[0m: 'list' object is not callable"
          ]
        }
      ]
    },
    {
      "cell_type": "code",
      "source": [
        "dlst.list"
      ],
      "metadata": {
        "colab": {
          "base_uri": "https://localhost:8080/"
        },
        "id": "6ABRc2KS4k2y",
        "outputId": "46488918-d2ee-433b-9448-a46d1aa8f22c"
      },
      "execution_count": 79,
      "outputs": [
        {
          "output_type": "execute_result",
          "data": {
            "text/plain": [
              "[10, 20, 30, 35, 399, 399, 399, 40, 50, 60, 3]"
            ]
          },
          "metadata": {},
          "execution_count": 79
        }
      ]
    },
    {
      "cell_type": "code",
      "source": [
        "class PrakashLists:\n",
        "  def __init__(self, list):\n",
        "    self.__list = list\n",
        "    self.__len = len(list)\n",
        "\n",
        "  def add(self, new_val):\n",
        "    self.__list.append(new_val)\n",
        "    self.__len = self.__len + 1\n",
        "  def sum(self):\n",
        "    print(\"sum is \" + str(sum(self.__list)))\n",
        "    return sum(self.__list)\n",
        "  def length(self):\n",
        "    return self.__len"
      ],
      "metadata": {
        "id": "tC-h14z-4qXx"
      },
      "execution_count": 93,
      "outputs": []
    },
    {
      "cell_type": "code",
      "source": [
        "plst = PrakashLists([3,6,9,12,15])"
      ],
      "metadata": {
        "id": "tNcrItCH5jz6"
      },
      "execution_count": 94,
      "outputs": []
    },
    {
      "cell_type": "code",
      "source": [
        "plst.__len"
      ],
      "metadata": {
        "colab": {
          "base_uri": "https://localhost:8080/",
          "height": 146
        },
        "id": "eYvz8Ng-5tNC",
        "outputId": "90c1bfb8-d62a-4a5b-b5e5-f6b3b4b20cda"
      },
      "execution_count": 95,
      "outputs": [
        {
          "output_type": "error",
          "ename": "AttributeError",
          "evalue": "'PrakashLists' object has no attribute '__len'",
          "traceback": [
            "\u001b[0;31m---------------------------------------------------------------------------\u001b[0m",
            "\u001b[0;31mAttributeError\u001b[0m                            Traceback (most recent call last)",
            "\u001b[0;32m<ipython-input-95-60785adf9722>\u001b[0m in \u001b[0;36m<cell line: 0>\u001b[0;34m()\u001b[0m\n\u001b[0;32m----> 1\u001b[0;31m \u001b[0mplst\u001b[0m\u001b[0;34m.\u001b[0m\u001b[0m__len\u001b[0m\u001b[0;34m\u001b[0m\u001b[0;34m\u001b[0m\u001b[0m\n\u001b[0m",
            "\u001b[0;31mAttributeError\u001b[0m: 'PrakashLists' object has no attribute '__len'"
          ]
        }
      ]
    },
    {
      "cell_type": "code",
      "source": [
        "plst._PrakashLists__len"
      ],
      "metadata": {
        "colab": {
          "base_uri": "https://localhost:8080/"
        },
        "id": "8DHnjUMM5mug",
        "outputId": "e605bca2-68d6-4693-9de8-f1d7fffa56b0"
      },
      "execution_count": 96,
      "outputs": [
        {
          "output_type": "execute_result",
          "data": {
            "text/plain": [
              "5"
            ]
          },
          "metadata": {},
          "execution_count": 96
        }
      ]
    },
    {
      "cell_type": "code",
      "source": [
        "plst.__len = 10"
      ],
      "metadata": {
        "id": "WFbTXOvn5vtC"
      },
      "execution_count": 97,
      "outputs": []
    },
    {
      "cell_type": "code",
      "source": [
        "plst.length()"
      ],
      "metadata": {
        "colab": {
          "base_uri": "https://localhost:8080/"
        },
        "id": "BmcQqs4r5xJ6",
        "outputId": "022f7580-e5bd-4bc2-e9ce-424d770afa7c"
      },
      "execution_count": 98,
      "outputs": [
        {
          "output_type": "execute_result",
          "data": {
            "text/plain": [
              "5"
            ]
          },
          "metadata": {},
          "execution_count": 98
        }
      ]
    },
    {
      "cell_type": "code",
      "source": [
        "plst.add(234)"
      ],
      "metadata": {
        "id": "VUSVi3Mt6OVS"
      },
      "execution_count": 99,
      "outputs": []
    },
    {
      "cell_type": "code",
      "source": [
        "plst.length()"
      ],
      "metadata": {
        "colab": {
          "base_uri": "https://localhost:8080/"
        },
        "id": "NI19tNGk6Qox",
        "outputId": "9b6717c2-8fd3-482e-8225-f41198233d26"
      },
      "execution_count": 100,
      "outputs": [
        {
          "output_type": "execute_result",
          "data": {
            "text/plain": [
              "6"
            ]
          },
          "metadata": {},
          "execution_count": 100
        }
      ]
    },
    {
      "cell_type": "code",
      "source": [
        "plst._PrakashLists__list"
      ],
      "metadata": {
        "colab": {
          "base_uri": "https://localhost:8080/"
        },
        "id": "4Z4q5Mk56Rch",
        "outputId": "bc4d4c42-02c8-4fe2-e9a8-bd5b5b557acc"
      },
      "execution_count": 102,
      "outputs": [
        {
          "output_type": "execute_result",
          "data": {
            "text/plain": [
              "[3, 6, 9, 12, 15, 234]"
            ]
          },
          "metadata": {},
          "execution_count": 102
        }
      ]
    }
  ]
}