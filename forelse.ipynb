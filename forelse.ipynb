{
  "nbformat": 4,
  "nbformat_minor": 0,
  "metadata": {
    "colab": {
      "provenance": []
    },
    "kernelspec": {
      "name": "python3",
      "display_name": "Python 3"
    },
    "language_info": {
      "name": "python"
    }
  },
  "cells": [
    {
      "cell_type": "code",
      "execution_count": null,
      "metadata": {
        "id": "hTYHH93DkdAi"
      },
      "outputs": [],
      "source": [
        "# Forelse"
      ]
    },
    {
      "cell_type": "code",
      "source": [
        "for i in [ 3,6,8,10,12,24]:\n",
        "  if i%5==0:\n",
        "    break\n",
        "  else:\n",
        "    print(\"not Found\")"
      ],
      "metadata": {
        "colab": {
          "base_uri": "https://localhost:8080/"
        },
        "id": "7RLLUfF5ke-2",
        "outputId": "23a532e4-2c47-4ae6-ceec-db301bf3e5fd"
      },
      "execution_count": 2,
      "outputs": [
        {
          "output_type": "stream",
          "name": "stdout",
          "text": [
            "not Found\n",
            "not Found\n",
            "not Found\n"
          ]
        }
      ]
    },
    {
      "cell_type": "code",
      "source": [
        "for i in [ 3,6,8,12,24]:\n",
        "  if i%5==0:\n",
        "    break\n",
        "  else:\n",
        "    print(\"not Found\")"
      ],
      "metadata": {
        "id": "nJQpG4QQkr71",
        "outputId": "b7588160-f790-459e-a272-015c6f31249a",
        "colab": {
          "base_uri": "https://localhost:8080/"
        }
      },
      "execution_count": 3,
      "outputs": [
        {
          "output_type": "stream",
          "name": "stdout",
          "text": [
            "not Found\n",
            "not Found\n",
            "not Found\n",
            "not Found\n",
            "not Found\n"
          ]
        }
      ]
    },
    {
      "cell_type": "code",
      "source": [
        "for i in [ 3,6,8,12,24]:\n",
        "  if i%5==0:\n",
        "    break\n",
        "else:\n",
        "    print(\"not Found\")"
      ],
      "metadata": {
        "id": "SUJ8OYK8kto8",
        "outputId": "c9de8cb9-87b1-478f-fe1a-f5f863fb6f10",
        "colab": {
          "base_uri": "https://localhost:8080/"
        }
      },
      "execution_count": 4,
      "outputs": [
        {
          "output_type": "stream",
          "name": "stdout",
          "text": [
            "not Found\n"
          ]
        }
      ]
    }
  ]
}