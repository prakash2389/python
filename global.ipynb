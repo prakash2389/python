{
  "nbformat": 4,
  "nbformat_minor": 0,
  "metadata": {
    "colab": {
      "provenance": []
    },
    "kernelspec": {
      "name": "python3",
      "display_name": "Python 3"
    },
    "language_info": {
      "name": "python"
    }
  },
  "cells": [
    {
      "cell_type": "code",
      "source": [
        "# global"
      ],
      "metadata": {
        "id": "FUw_t7aEXeAt"
      },
      "execution_count": 3,
      "outputs": []
    },
    {
      "cell_type": "code",
      "execution_count": 4,
      "metadata": {
        "colab": {
          "base_uri": "https://localhost:8080/"
        },
        "id": "enf4FaCAXUhY",
        "outputId": "1e56c8e1-f6fc-42ad-a8e9-19919c0b1c06"
      },
      "outputs": [
        {
          "output_type": "stream",
          "name": "stdout",
          "text": [
            "100\n",
            "40\n"
          ]
        }
      ],
      "source": [
        "a=100\n",
        "\n",
        "def func(a):\n",
        "  a=40\n",
        "  print(a)\n",
        "\n",
        "print(a)\n",
        "func(a)"
      ]
    },
    {
      "cell_type": "code",
      "source": [
        "a = 100\n",
        "\n",
        "def func():\n",
        "  global a\n",
        "  a=40\n",
        "  print(a)\n",
        "\n",
        "\n",
        "func()\n",
        "print(a)"
      ],
      "metadata": {
        "colab": {
          "base_uri": "https://localhost:8080/"
        },
        "id": "GlPh7xyAXjA0",
        "outputId": "90667620-1190-4e2e-8c8e-9c2d1fb97a7b"
      },
      "execution_count": 11,
      "outputs": [
        {
          "output_type": "stream",
          "name": "stdout",
          "text": [
            "40\n",
            "40\n"
          ]
        }
      ]
    },
    {
      "cell_type": "code",
      "source": [
        "a = 100\n",
        "\n",
        "def func():\n",
        "  x=globals()['a']\n",
        "  a=40\n",
        "  print(x)\n",
        "  print(a)\n",
        "\n",
        "\n",
        "func()\n"
      ],
      "metadata": {
        "colab": {
          "base_uri": "https://localhost:8080/"
        },
        "id": "tVHb80LFYB9k",
        "outputId": "6527dc43-0441-415f-f343-1c8bc9b4700a"
      },
      "execution_count": 14,
      "outputs": [
        {
          "output_type": "stream",
          "name": "stdout",
          "text": [
            "100\n",
            "40\n"
          ]
        }
      ]
    }
  ]
}