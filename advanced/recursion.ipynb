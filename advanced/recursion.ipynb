{
  "nbformat": 4,
  "nbformat_minor": 0,
  "metadata": {
    "colab": {
      "provenance": []
    },
    "kernelspec": {
      "name": "python3",
      "display_name": "Python 3"
    },
    "language_info": {
      "name": "python"
    }
  },
  "cells": [
    {
      "cell_type": "code",
      "execution_count": 3,
      "metadata": {
        "colab": {
          "base_uri": "https://localhost:8080/"
        },
        "id": "Z9KfQCDXYkEJ",
        "outputId": "24556f8c-f929-496f-9314-31b406a44deb"
      },
      "outputs": [
        {
          "output_type": "execute_result",
          "data": {
            "text/plain": [
              "720"
            ]
          },
          "metadata": {},
          "execution_count": 3
        }
      ],
      "source": [
        "def factorial(n):\n",
        "  if n==0:\n",
        "    return 1\n",
        "  return n * factorial(n-1)\n",
        "\n",
        "\n",
        "factorial(6)"
      ]
    },
    {
      "cell_type": "code",
      "source": [],
      "metadata": {
        "id": "02_dxFcxZPxD"
      },
      "execution_count": 3,
      "outputs": []
    }
  ]
}