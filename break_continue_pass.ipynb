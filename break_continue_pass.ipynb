{
  "nbformat": 4,
  "nbformat_minor": 0,
  "metadata": {
    "colab": {
      "provenance": []
    },
    "kernelspec": {
      "name": "python3",
      "display_name": "Python 3"
    },
    "language_info": {
      "name": "python"
    }
  },
  "cells": [
    {
      "cell_type": "code",
      "execution_count": 17,
      "metadata": {
        "id": "Mm8A2o_FfGoA"
      },
      "outputs": [],
      "source": [
        "# Break exits the loop\n",
        "# Continue skips the current iteration\n",
        "# Pass does nothing\n",
        "# if nested loop, break will exit the inner loop, continue will skip to the next iteration of the inner loop\n",
        "# if you want to exit the outer loop, you can use a flag variable or raise an exception"
      ]
    },
    {
      "cell_type": "code",
      "source": [
        "# break\n",
        "for i in range(1, 21, 2):\n",
        "  if i == 13:\n",
        "    break\n",
        "  print(i)"
      ],
      "metadata": {
        "colab": {
          "base_uri": "https://localhost:8080/"
        },
        "id": "97xb4F2VfLxT",
        "outputId": "cfa53f0a-5807-41b3-a5ad-5a0482709b94"
      },
      "execution_count": 13,
      "outputs": [
        {
          "output_type": "stream",
          "name": "stdout",
          "text": [
            "1\n",
            "3\n",
            "5\n",
            "7\n",
            "9\n",
            "11\n"
          ]
        }
      ]
    },
    {
      "cell_type": "code",
      "source": [
        "# break with while\n",
        "i = 1\n",
        "while i <= 100:\n",
        "  if i > 25:\n",
        "    break\n",
        "  print(i)\n",
        "  i+=3\n"
      ],
      "metadata": {
        "colab": {
          "base_uri": "https://localhost:8080/"
        },
        "id": "7Ka-PjD8fhSk",
        "outputId": "804b322f-1120-4f42-b595-52c45053532b"
      },
      "execution_count": 14,
      "outputs": [
        {
          "output_type": "stream",
          "name": "stdout",
          "text": [
            "1\n",
            "4\n",
            "7\n",
            "10\n",
            "13\n",
            "16\n",
            "19\n",
            "22\n",
            "25\n"
          ]
        }
      ]
    },
    {
      "cell_type": "code",
      "source": [
        "# break\n",
        "for i in range(1, 21, 2):\n",
        "  for j in [\"Prakash\", \"Dhruv\"]:\n",
        "    if i == 13:\n",
        "      break\n",
        "    print(i, j)"
      ],
      "metadata": {
        "colab": {
          "base_uri": "https://localhost:8080/"
        },
        "id": "O5Ihz4xpf20z",
        "outputId": "f4a70277-9e75-4fca-fd94-c6f4227de262"
      },
      "execution_count": 15,
      "outputs": [
        {
          "output_type": "stream",
          "name": "stdout",
          "text": [
            "1 Prakash\n",
            "1 Dhruv\n",
            "3 Prakash\n",
            "3 Dhruv\n",
            "5 Prakash\n",
            "5 Dhruv\n",
            "7 Prakash\n",
            "7 Dhruv\n",
            "9 Prakash\n",
            "9 Dhruv\n",
            "11 Prakash\n",
            "11 Dhruv\n",
            "15 Prakash\n",
            "15 Dhruv\n",
            "17 Prakash\n",
            "17 Dhruv\n",
            "19 Prakash\n",
            "19 Dhruv\n"
          ]
        }
      ]
    },
    {
      "cell_type": "code",
      "source": [
        "# break\n",
        "for i in range(1, 21, 2):\n",
        "  for j in [\"Prakash\", \"Dhruv\"]:\n",
        "    if j == \"Dhruv\":\n",
        "      break\n",
        "    print(i, j)"
      ],
      "metadata": {
        "colab": {
          "base_uri": "https://localhost:8080/"
        },
        "id": "XixAci4ngKh0",
        "outputId": "6776840a-6927-4d6e-aedc-3f8f536cb399"
      },
      "execution_count": 9,
      "outputs": [
        {
          "output_type": "stream",
          "name": "stdout",
          "text": [
            "1 Prakash\n",
            "3 Prakash\n",
            "5 Prakash\n",
            "7 Prakash\n",
            "9 Prakash\n",
            "11 Prakash\n",
            "13 Prakash\n",
            "15 Prakash\n",
            "17 Prakash\n",
            "19 Prakash\n"
          ]
        }
      ]
    },
    {
      "cell_type": "code",
      "source": [
        "# break\n",
        "for i in range(1, 21, 2):\n",
        "  if i == 13:\n",
        "    continue\n",
        "  print(i)"
      ],
      "metadata": {
        "colab": {
          "base_uri": "https://localhost:8080/"
        },
        "id": "iMhxy4dfgt7z",
        "outputId": "5dd53423-5b3e-4a6d-e8d6-9ca321cb7e3c"
      },
      "execution_count": 11,
      "outputs": [
        {
          "output_type": "stream",
          "name": "stdout",
          "text": [
            "1\n",
            "3\n",
            "5\n",
            "7\n",
            "9\n",
            "11\n",
            "15\n",
            "17\n",
            "19\n"
          ]
        }
      ]
    },
    {
      "cell_type": "code",
      "source": [
        "# break\n",
        "for i in range(1, 21):\n",
        "  if i >= 10:\n",
        "    break\n",
        "  for j in [\"Prakash\", \"Dhruv\"]:\n",
        "    if j == \"Dhruv\":\n",
        "      break\n",
        "    print(i, j)\n"
      ],
      "metadata": {
        "colab": {
          "base_uri": "https://localhost:8080/"
        },
        "id": "BaxGPxX8hrgT",
        "outputId": "7b7f8a6f-9b52-4fce-8126-f060ce8658cf"
      },
      "execution_count": 31,
      "outputs": [
        {
          "output_type": "stream",
          "name": "stdout",
          "text": [
            "1 Prakash\n",
            "2 Prakash\n",
            "3 Prakash\n",
            "4 Prakash\n",
            "5 Prakash\n",
            "6 Prakash\n",
            "7 Prakash\n",
            "8 Prakash\n",
            "9 Prakash\n"
          ]
        }
      ]
    },
    {
      "cell_type": "code",
      "source": [
        "# pass\n",
        "for i in range(1, 21, 2):\n",
        "  if i%5 == 0:\n",
        "    pass\n",
        "  else:\n",
        "    print(i)"
      ],
      "metadata": {
        "colab": {
          "base_uri": "https://localhost:8080/"
        },
        "id": "D8WI-oRBiusL",
        "outputId": "bfb4ddb8-126b-4167-dbf4-1cece70f200a"
      },
      "execution_count": 33,
      "outputs": [
        {
          "output_type": "stream",
          "name": "stdout",
          "text": [
            "1\n",
            "3\n",
            "7\n",
            "9\n",
            "11\n",
            "13\n",
            "17\n",
            "19\n"
          ]
        }
      ]
    }
  ]
}